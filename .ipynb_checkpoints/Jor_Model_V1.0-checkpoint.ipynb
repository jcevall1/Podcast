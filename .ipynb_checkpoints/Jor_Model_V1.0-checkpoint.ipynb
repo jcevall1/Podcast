{
 "cells": [
  {
   "cell_type": "code",
   "execution_count": 1,
   "id": "69fed2d7",
   "metadata": {
    "ExecuteTime": {
     "end_time": "2025-04-30T07:57:33.955728Z",
     "start_time": "2025-04-30T07:57:32.548957Z"
    }
   },
   "outputs": [],
   "source": [
    "import pandas as pd\n",
    "import numpy as np\n",
    "import matplotlib.pyplot as plt\n",
    "from sklearn.model_selection import train_test_split, cross_val_score\n",
    "from sklearn.linear_model import LinearRegression\n",
    "from sklearn.svm import SVR\n",
    "from sklearn.ensemble import RandomForestRegressor, StackingRegressor\n",
    "from sklearn.preprocessing import PolynomialFeatures\n",
    "from sklearn.metrics import mean_squared_error\n",
    "import xgboost as xgb\n"
   ]
  },
  {
   "cell_type": "code",
   "execution_count": 2,
   "id": "00096d09",
   "metadata": {
    "ExecuteTime": {
     "end_time": "2025-04-30T07:57:35.363750Z",
     "start_time": "2025-04-30T07:57:35.351552Z"
    }
   },
   "outputs": [],
   "source": [
    "\n",
    "# ---------- 1. Load and Prepare Data ----------\n",
    "def load_preprocess():\n",
    "    train_df = pd.read_csv('Data/train.csv')\n",
    "    test_df = pd.read_csv('Data/test.csv')\n",
    "\n",
    "    train_df['is_train'] = 1\n",
    "    test_df['is_train'] = 0\n",
    "    full_df = pd.concat([train_df, test_df])\n",
    "\n",
    "    # Clean specific columns\n",
    "    full_df[\"Number_of_Ads\"] = full_df[\"Number_of_Ads\"].fillna(0)\n",
    "    full_df[\"Number_of_Ads\"] = full_df[\"Number_of_Ads\"].where(full_df[\"Number_of_Ads\"].isin([0, 1, 2, 3]), 1)\n",
    "    full_df[\"Episode_Number\"] = full_df[\"Episode_Title\"].str.extract(r\"(\\d+)\").astype(float)\n",
    "    full_df[\"Guest_Popularity_percentage\"] = full_df[\"Guest_Popularity_percentage\"].fillna(0)\n",
    "    full_df[\"Episode_Length_minutes\"] = full_df[\"Episode_Length_minutes\"].fillna(full_df[\"Episode_Length_minutes\"].median())\n",
    "    full_df.drop(columns=[\"Episode_Title\"], inplace=True)\n",
    "\n",
    "    # Categorical encoding\n",
    "    for col in [\"Podcast_Name\", \"Genre\", \"Publication_Day\", \"Publication_Time\", \"Episode_Sentiment\"]:\n",
    "        full_df[col] = full_df[col].astype('category')\n",
    "\n",
    "    # Split again\n",
    "    train_df = full_df[full_df['is_train'] == 1].drop(columns=['is_train'])\n",
    "    test_df = full_df[full_df['is_train'] == 0].drop(columns=['is_train', 'Listening_Time_minutes'])\n",
    "\n",
    "    return train_df, test_df\n"
   ]
  },
  {
   "cell_type": "code",
   "execution_count": 3,
   "id": "73a855bd",
   "metadata": {
    "ExecuteTime": {
     "end_time": "2025-04-30T07:58:02.418383Z",
     "start_time": "2025-04-30T07:58:02.408978Z"
    }
   },
   "outputs": [],
   "source": [
    "\n",
    "# ---------- 2. Model and Transform Evaluation ----------\n",
    "def evaluate_model(name, model, X, y, inverse_transform=None):\n",
    "    model.fit(X, y)\n",
    "    preds = model.predict(X)\n",
    "    if inverse_transform:\n",
    "        preds = inverse_transform(preds)\n",
    "    rmse = np.sqrt(mean_squared_error(y_true if inverse_transform else y, preds))\n",
    "    print(f\"{name} RMSE: {rmse:.4f}\")\n",
    "    return rmse\n",
    "\n"
   ]
  },
  {
   "cell_type": "code",
   "execution_count": 9,
   "id": "c0c0521f",
   "metadata": {
    "ExecuteTime": {
     "end_time": "2025-04-30T08:30:19.104002Z",
     "start_time": "2025-04-30T08:26:13.418543Z"
    }
   },
   "outputs": [
    {
     "name": "stdout",
     "output_type": "stream",
     "text": [
      "XGBoost (original) RMSE: 12.0839\n"
     ]
    },
    {
     "data": {
      "text/plain": [
       "np.float64(12.08390804635549)"
      ]
     },
     "execution_count": 9,
     "metadata": {},
     "output_type": "execute_result"
    }
   ],
   "source": [
    "# ---------- 3. Main Execution ----------\n",
    "train_df, test_df = load_preprocess()\n",
    "X = train_df.drop(columns=[\"Listening_Time_minutes\", \"id\"])\n",
    "y = train_df[\"Listening_Time_minutes\"]\n",
    "y_true = y.copy()\n",
    "\n",
    "# Base XGB\n",
    "base_model = xgb.XGBRegressor(max_depth=6, colsample_bytree=0.5, subsample=0.8,\n",
    "                              n_estimators=10000, learning_rate=0.02,\n",
    "                              enable_categorical=True, min_child_weight=10, verbosity=0)\n",
    "\n",
    "rmse_xgb =evaluate_model(\"XGBoost (original)\", base_model, X, y)\n"
   ]
  },
  {
   "cell_type": "code",
   "execution_count": 10,
   "id": "8511c0ae",
   "metadata": {
    "ExecuteTime": {
     "end_time": "2025-04-30T08:35:47.648088Z",
     "start_time": "2025-04-30T08:31:38.762794Z"
    }
   },
   "outputs": [
    {
     "name": "stdout",
     "output_type": "stream",
     "text": [
      "Log Transform RMSE: 12.8522\n"
     ]
    },
    {
     "data": {
      "text/plain": [
       "np.float64(12.85217391363556)"
      ]
     },
     "execution_count": 10,
     "metadata": {},
     "output_type": "execute_result"
    }
   ],
   "source": [
    "# Log Transform\n",
    "rmse_log = evaluate_model(\"Log Transform\", base_model, X, np.log1p(y), inverse_transform=np.expm1)\n"
   ]
  },
  {
   "cell_type": "code",
   "execution_count": 11,
   "id": "baeff032",
   "metadata": {
    "ExecuteTime": {
     "end_time": "2025-04-30T08:40:44.220412Z",
     "start_time": "2025-04-30T08:35:51.238709Z"
    }
   },
   "outputs": [
    {
     "name": "stdout",
     "output_type": "stream",
     "text": [
      "Sqrt Transform RMSE: 12.2526\n"
     ]
    },
    {
     "data": {
      "text/plain": [
       "np.float64(12.25264517989383)"
      ]
     },
     "execution_count": 11,
     "metadata": {},
     "output_type": "execute_result"
    }
   ],
   "source": [
    "# Sqrt Transform\n",
    "rmse_sqrt =evaluate_model(\"Sqrt Transform\", base_model, X, np.sqrt(y), inverse_transform=lambda x: x**2)\n"
   ]
  },
  {
   "cell_type": "code",
   "execution_count": 13,
   "id": "a27de50b",
   "metadata": {
    "ExecuteTime": {
     "end_time": "2025-04-30T09:02:27.591555Z",
     "start_time": "2025-04-30T08:43:05.937176Z"
    }
   },
   "outputs": [
    {
     "name": "stdout",
     "output_type": "stream",
     "text": [
      "XGBoost (original) RMSE: 12.0839\n",
      "Log Transform RMSE: 12.8522\n",
      "Sqrt Transform RMSE: 12.2526\n"
     ]
    }
   ],
   "source": [
    "rmse_xgb = evaluate_model(\"XGBoost (original)\", base_model, X, y)\n",
    "rmse_log = evaluate_model(\"Log Transform\", base_model, X, np.log1p(y), inverse_transform=np.expm1)\n",
    "rmse_sqrt = evaluate_model(\"Sqrt Transform\", base_model, X, np.sqrt(y), inverse_transform=lambda x: x**2)\n"
   ]
  },
  {
   "cell_type": "code",
   "execution_count": 14,
   "id": "5479b61f",
   "metadata": {
    "ExecuteTime": {
     "end_time": "2025-04-30T09:03:24.602837Z",
     "start_time": "2025-04-30T09:03:24.534712Z"
    }
   },
   "outputs": [],
   "source": [
    "#  \n",
    "results = {\n",
    "    \"Model\": [\"XGBoost\", \"Log\", \"Sqrt\" ],\n",
    "    \"RMSE\": [rmse_xgb, rmse_log, rmse_sqrt ]  \n",
    "}\n",
    "pd.DataFrame(results).to_csv(\"model_comparison.csv\", index=False)"
   ]
  },
  {
   "cell_type": "code",
   "execution_count": 15,
   "id": "6f1b6ffe",
   "metadata": {
    "ExecuteTime": {
     "end_time": "2025-04-30T09:03:28.149163Z",
     "start_time": "2025-04-30T09:03:28.138512Z"
    }
   },
   "outputs": [
    {
     "data": {
      "text/plain": [
       "{'Model': ['XGBoost', 'Log', 'Sqrt'],\n",
       " 'RMSE': [np.float64(12.08390804635549),\n",
       "  np.float64(12.85217391363556),\n",
       "  np.float64(12.25264517989383)]}"
      ]
     },
     "execution_count": 15,
     "metadata": {},
     "output_type": "execute_result"
    }
   ],
   "source": [
    "results"
   ]
  },
  {
   "cell_type": "code",
   "execution_count": null,
   "id": "e20539b9",
   "metadata": {},
   "outputs": [],
   "source": []
  }
 ],
 "metadata": {
  "kernelspec": {
   "display_name": "Python 3 (ipykernel)",
   "language": "python",
   "name": "python3"
  },
  "language_info": {
   "codemirror_mode": {
    "name": "ipython",
    "version": 3
   },
   "file_extension": ".py",
   "mimetype": "text/x-python",
   "name": "python",
   "nbconvert_exporter": "python",
   "pygments_lexer": "ipython3",
   "version": "3.12.3"
  },
  "toc": {
   "base_numbering": 1,
   "nav_menu": {},
   "number_sections": true,
   "sideBar": true,
   "skip_h1_title": false,
   "title_cell": "Table of Contents",
   "title_sidebar": "Contents",
   "toc_cell": false,
   "toc_position": {},
   "toc_section_display": true,
   "toc_window_display": false
  }
 },
 "nbformat": 4,
 "nbformat_minor": 5
}
