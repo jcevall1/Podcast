{
 "cells": [
  {
   "cell_type": "code",
   "execution_count": 1,
   "id": "69fed2d7",
   "metadata": {
    "ExecuteTime": {
     "end_time": "2025-04-30T07:57:33.955728Z",
     "start_time": "2025-04-30T07:57:32.548957Z"
    }
   },
   "outputs": [],
   "source": [
    "import pandas as pd\n",
    "import numpy as np\n",
    "import matplotlib.pyplot as plt\n",
    "from sklearn.model_selection import train_test_split, cross_val_score\n",
    "from sklearn.linear_model import LinearRegression\n",
    "from sklearn.svm import SVR\n",
    "from sklearn.ensemble import RandomForestRegressor, StackingRegressor\n",
    "from sklearn.preprocessing import PolynomialFeatures\n",
    "from sklearn.metrics import mean_squared_error\n",
    "import xgboost as xgb\n"
   ]
  },
  {
   "cell_type": "code",
   "execution_count": 2,
   "id": "00096d09",
   "metadata": {
    "ExecuteTime": {
     "end_time": "2025-04-30T07:57:35.363750Z",
     "start_time": "2025-04-30T07:57:35.351552Z"
    }
   },
   "outputs": [],
   "source": [
    "\n",
    "# ---------- 1. Load and Prepare Data ----------\n",
    "def load_preprocess():\n",
    "    train_df = pd.read_csv('Data/train.csv')\n",
    "    test_df = pd.read_csv('Data/test.csv')\n",
    "\n",
    "    train_df['is_train'] = 1\n",
    "    test_df['is_train'] = 0\n",
    "    full_df = pd.concat([train_df, test_df])\n",
    "\n",
    "    # Clean specific columns\n",
    "    full_df[\"Number_of_Ads\"] = full_df[\"Number_of_Ads\"].fillna(0)\n",
    "    full_df[\"Number_of_Ads\"] = full_df[\"Number_of_Ads\"].where(full_df[\"Number_of_Ads\"].isin([0, 1, 2, 3]), 1)\n",
    "    full_df[\"Episode_Number\"] = full_df[\"Episode_Title\"].str.extract(r\"(\\d+)\").astype(float)\n",
    "    full_df[\"Guest_Popularity_percentage\"] = full_df[\"Guest_Popularity_percentage\"].fillna(0)\n",
    "    full_df[\"Episode_Length_minutes\"] = full_df[\"Episode_Length_minutes\"].fillna(full_df[\"Episode_Length_minutes\"].median())\n",
    "    full_df.drop(columns=[\"Episode_Title\"], inplace=True)\n",
    "\n",
    "    # Categorical encoding\n",
    "    for col in [\"Podcast_Name\", \"Genre\", \"Publication_Day\", \"Publication_Time\", \"Episode_Sentiment\"]:\n",
    "        full_df[col] = full_df[col].astype('category')\n",
    "\n",
    "    # Split again\n",
    "    train_df = full_df[full_df['is_train'] == 1].drop(columns=['is_train'])\n",
    "    test_df = full_df[full_df['is_train'] == 0].drop(columns=['is_train', 'Listening_Time_minutes'])\n",
    "\n",
    "    return train_df, test_df\n"
   ]
  },
  {
   "cell_type": "code",
   "execution_count": 3,
   "id": "73a855bd",
   "metadata": {
    "ExecuteTime": {
     "end_time": "2025-04-30T07:58:02.418383Z",
     "start_time": "2025-04-30T07:58:02.408978Z"
    }
   },
   "outputs": [],
   "source": [
    "\n",
    "# ---------- 2. Model and Transform Evaluation ----------\n",
    "def evaluate_model(name, model, X, y, inverse_transform=None):\n",
    "    model.fit(X, y)\n",
    "    preds = model.predict(X)\n",
    "    if inverse_transform:\n",
    "        preds = inverse_transform(preds)\n",
    "    rmse = np.sqrt(mean_squared_error(y_true if inverse_transform else y, preds))\n",
    "    print(f\"{name} RMSE: {rmse:.4f}\")\n",
    "    return rmse\n",
    "\n"
   ]
  },
  {
   "cell_type": "code",
   "execution_count": null,
   "id": "c0c0521f",
   "metadata": {
    "ExecuteTime": {
     "start_time": "2025-04-30T07:58:09.731Z"
    }
   },
   "outputs": [
    {
     "name": "stdout",
     "output_type": "stream",
     "text": [
      "XGBoost (original) RMSE: 12.0839\n"
     ]
    }
   ],
   "source": [
    "# ---------- 3. Main Execution ----------\n",
    "train_df, test_df = load_preprocess()\n",
    "X = train_df.drop(columns=[\"Listening_Time_minutes\", \"id\"])\n",
    "y = train_df[\"Listening_Time_minutes\"]\n",
    "y_true = y.copy()\n",
    "\n",
    "# Base XGB\n",
    "base_model = xgb.XGBRegressor(max_depth=6, colsample_bytree=0.5, subsample=0.8,\n",
    "                              n_estimators=10000, learning_rate=0.02,\n",
    "                              enable_categorical=True, min_child_weight=10, verbosity=0)\n",
    "\n",
    "evaluate_model(\"XGBoost (original)\", base_model, X, y)\n",
    "\n",
    "# Log Transform\n",
    "evaluate_model(\"Log Transform\", base_model, X, np.log1p(y), inverse_transform=np.expm1)\n",
    "\n",
    "# Sqrt Transform\n",
    "evaluate_model(\"Sqrt Transform\", base_model, X, np.sqrt(y), inverse_transform=lambda x: x**2)\n",
    "\n",
    "# Polynomial Features (degree=2)\n",
    "numeric_cols = X.select_dtypes(include=[np.number]).columns\n",
    "poly = PolynomialFeatures(degree=2, include_bias=False)\n",
    "X_poly = poly.fit_transform(X[numeric_cols])\n",
    "X_poly_full = np.hstack([X_poly, X.drop(columns=numeric_cols).values])\n",
    "\n",
    "evaluate_model(\"Polynomial Features\", base_model, X_poly_full, y)\n",
    "\n",
    "# Stacking Regressor\n",
    "estimators = [\n",
    "    ('xgb', xgb.XGBRegressor(n_estimators=500, learning_rate=0.05, max_depth=4, enable_categorical=True, verbosity=0)),\n",
    "    ('svr', SVR(kernel='rbf', C=1.0, epsilon=0.1)),\n",
    "    ('rf', RandomForestRegressor(n_estimators=100, max_depth=5, random_state=42))\n",
    "]\n",
    "\n",
    "stacked_model = StackingRegressor(estimators=estimators, final_estimator=LinearRegression(), passthrough=True)\n",
    "evaluate_model(\"Stacked Model\", stacked_model, X, y)\n"
   ]
  },
  {
   "cell_type": "code",
   "execution_count": null,
   "id": "591b78b9",
   "metadata": {},
   "outputs": [],
   "source": [
    "# Optional: save RMSEs to plot or CSV\n",
    "results = {\n",
    "    \"Model\": [\"XGBoost\", \"Log\", \"Sqrt\", \"Polynomial\", \"Stacked\"],\n",
    "    \"RMSE\": [rmse_xgb, rmse_log, rmse_sqrt, rmse_poly, rmse_stack]  # fill these with the returned values\n",
    "}\n",
    "pd.DataFrame(results).to_csv(\"model_comparison.csv\", index=False)\n"
   ]
  }
 ],
 "metadata": {
  "kernelspec": {
   "display_name": "Python 3 (ipykernel)",
   "language": "python",
   "name": "python3"
  },
  "language_info": {
   "codemirror_mode": {
    "name": "ipython",
    "version": 3
   },
   "file_extension": ".py",
   "mimetype": "text/x-python",
   "name": "python",
   "nbconvert_exporter": "python",
   "pygments_lexer": "ipython3",
   "version": "3.12.3"
  },
  "toc": {
   "base_numbering": 1,
   "nav_menu": {},
   "number_sections": true,
   "sideBar": true,
   "skip_h1_title": false,
   "title_cell": "Table of Contents",
   "title_sidebar": "Contents",
   "toc_cell": false,
   "toc_position": {},
   "toc_section_display": true,
   "toc_window_display": false
  }
 },
 "nbformat": 4,
 "nbformat_minor": 5
}
